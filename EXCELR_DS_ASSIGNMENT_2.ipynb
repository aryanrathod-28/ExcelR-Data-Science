{
  "nbformat": 4,
  "nbformat_minor": 0,
  "metadata": {
    "colab": {
      "provenance": []
    },
    "kernelspec": {
      "name": "python3",
      "display_name": "Python 3"
    },
    "language_info": {
      "name": "python"
    }
  },
  "cells": [
    {
      "cell_type": "code",
      "execution_count": 1,
      "metadata": {
        "id": "BYO4ExG62fUx"
      },
      "outputs": [],
      "source": [
        "import numpy as np\n",
        "import scipy.stats as stats\n",
        "\n",
        "# Given data: Durability of print-heads in millions of characters\n",
        "durability_data = [1.13, 1.55, 1.43, 0.92, 1.25, 1.36, 1.32, 0.85, 1.07, 1.48, 1.20, 1.33, 1.18, 1.22, 1.29]\n"
      ]
    },
    {
      "cell_type": "code",
      "source": [
        "# a. Confidence Interval Using Sample Standard Deviation\n",
        "# Step 1: Calculate sample mean and standard deviation\n",
        "sample_mean = np.mean(durability_data)\n",
        "sample_std = np.std(durability_data, ddof=1)  # Use ddof=1 for sample standard deviation\n",
        "n = len(durability_data)"
      ],
      "metadata": {
        "id": "MlcvUp_C2riD"
      },
      "execution_count": 2,
      "outputs": []
    },
    {
      "cell_type": "code",
      "source": [
        "# Step 2: Determine the critical t-value\n",
        "alpha = 0.01  # For 99% confidence level\n",
        "t_critical = stats.t.ppf(1 - alpha / 2, df=n - 1)  # Two-tailed test"
      ],
      "metadata": {
        "id": "ndxfo27Y2uUo"
      },
      "execution_count": 3,
      "outputs": []
    },
    {
      "cell_type": "code",
      "source": [
        "# Step 3: Calculate the margin of error\n",
        "margin_of_error_t = t_critical * (sample_std / np.sqrt(n))\n",
        "\n",
        "# Step 4: Compute the confidence interval\n",
        "ci_lower_t = sample_mean - margin_of_error_t\n",
        "ci_upper_t = sample_mean + margin_of_error_t\n",
        "print(f\"99% Confidence Interval using sample standard deviation: ({ci_lower_t:.3f}, {ci_upper_t:.3f})\")\n"
      ],
      "metadata": {
        "colab": {
          "base_uri": "https://localhost:8080/"
        },
        "id": "FLzA4eNr2xF1",
        "outputId": "74c188cc-7b31-41d6-f30b-569fbb8d0a19"
      },
      "execution_count": 4,
      "outputs": [
        {
          "output_type": "stream",
          "name": "stdout",
          "text": [
            "99% Confidence Interval using sample standard deviation: (1.090, 1.387)\n"
          ]
        }
      ]
    },
    {
      "cell_type": "code",
      "source": [
        "# b. Confidence Interval Using Known Population Standard Deviation\n",
        "# Step 1: Assume population standard deviation is known\n",
        "pop_std = 0.2\n",
        "\n",
        "# Step 2: Determine the critical z-value\n",
        "z_critical = stats.norm.ppf(1 - alpha / 2)  # Two-tailed test\n",
        "\n",
        "# Step 3: Calculate the margin of error\n",
        "margin_of_error_z = z_critical * (pop_std / np.sqrt(n))\n",
        "\n",
        "# Step 4: Compute the confidence interval\n",
        "ci_lower_z = sample_mean - margin_of_error_z\n",
        "ci_upper_z = sample_mean + margin_of_error_z\n",
        "print(f\"99% Confidence Interval using known population standard deviation: ({ci_lower_z:.3f}, {ci_upper_z:.3f})\")"
      ],
      "metadata": {
        "colab": {
          "base_uri": "https://localhost:8080/"
        },
        "id": "I7i_Ikgz2yhK",
        "outputId": "ba35916d-d8ae-430f-c600-52688b90a279"
      },
      "execution_count": 5,
      "outputs": [
        {
          "output_type": "stream",
          "name": "stdout",
          "text": [
            "99% Confidence Interval using known population standard deviation: (1.106, 1.372)\n"
          ]
        }
      ]
    }
  ]
}