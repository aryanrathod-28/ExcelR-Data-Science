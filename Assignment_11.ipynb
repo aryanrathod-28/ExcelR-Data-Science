{
  "nbformat": 4,
  "nbformat_minor": 0,
  "metadata": {
    "colab": {
      "provenance": []
    },
    "kernelspec": {
      "name": "python3",
      "display_name": "Python 3"
    },
    "language_info": {
      "name": "python"
    }
  },
  "cells": [
    {
      "cell_type": "code",
      "execution_count": 1,
      "metadata": {
        "id": "RJQf-sgw_pNd"
      },
      "outputs": [],
      "source": [
        "import pandas as pd\n",
        "from sklearn.feature_extraction.text import TfidfVectorizer\n",
        "from sklearn.metrics.pairwise import cosine_similarity\n",
        "from sklearn.model_selection import train_test_split"
      ]
    },
    {
      "cell_type": "code",
      "source": [
        "\n",
        "# Load the dataset\n",
        "file_path = '/content/anime.csv'\n",
        "anime_data = pd.read_csv(file_path)"
      ],
      "metadata": {
        "id": "-BR5-j7p_yZC"
      },
      "execution_count": 2,
      "outputs": []
    },
    {
      "cell_type": "code",
      "source": [
        "# Data Preprocessing\n",
        "# Drop missing values and unnecessary columns\n",
        "anime_data = anime_data.dropna(subset=['genre', 'rating'])\n",
        "anime_data = anime_data.fillna({'episodes': 'Unknown'})  # Fill unknown episodes with 'Unknown'\n",
        "\n",
        "# Feature Extraction\n",
        "# Combine relevant features into a single string\n",
        "anime_data['features'] = anime_data['genre'] + \" \" + anime_data['type']"
      ],
      "metadata": {
        "id": "C0yocJ1P_12T"
      },
      "execution_count": 3,
      "outputs": []
    },
    {
      "cell_type": "code",
      "source": [
        "# TF-IDF Vectorization\n",
        "tfidf = TfidfVectorizer(stop_words='english')\n",
        "tfidf_matrix = tfidf.fit_transform(anime_data['features'])\n",
        "\n",
        "# Cosine Similarity\n",
        "cosine_sim = cosine_similarity(tfidf_matrix, tfidf_matrix)"
      ],
      "metadata": {
        "id": "n2cKLKKK_8jC"
      },
      "execution_count": 4,
      "outputs": []
    },
    {
      "cell_type": "code",
      "source": [
        "# Recommendation Function\n",
        "def recommend_anime(anime_title, num_recommendations=10):\n",
        "    if anime_title not in anime_data['name'].values:\n",
        "        return f\"Anime '{anime_title}' not found in the dataset.\"\n",
        "\n",
        "    anime_idx = anime_data[anime_data['name'] == anime_title].index[0]\n",
        "    similarity_scores = list(enumerate(cosine_sim[anime_idx]))\n",
        "    similarity_scores = sorted(similarity_scores, key=lambda x: x[1], reverse=True)\n",
        "\n",
        "    recommended_anime_indices = [i[0] for i in similarity_scores[1:num_recommendations + 1]]\n",
        "    return anime_data.iloc[recommended_anime_indices][['name', 'genre', 'rating']]"
      ],
      "metadata": {
        "id": "VoWDateCAAeo"
      },
      "execution_count": 5,
      "outputs": []
    },
    {
      "cell_type": "code",
      "source": [
        "# Evaluation\n",
        "# Splitting data into training and testing (dummy example for user ratings)\n",
        "anime_data['rating_group'] = anime_data['rating'].apply(lambda x: 'high' if x >= 7 else 'low')\n",
        "train, test = train_test_split(anime_data, test_size=0.2, random_state=42)"
      ],
      "metadata": {
        "id": "9aoSEFKOAFBQ"
      },
      "execution_count": 6,
      "outputs": []
    },
    {
      "cell_type": "code",
      "source": [
        "# Display recommendation\n",
        "anime_title = \"Naruto\"  # Example anime title\n",
        "recommendations = recommend_anime(anime_title)\n",
        "print(f\"Recommendations for '{anime_title}':\\n\")\n",
        "print(recommendations)"
      ],
      "metadata": {
        "colab": {
          "base_uri": "https://localhost:8080/"
        },
        "id": "-SfEyybhAHa4",
        "outputId": "fc408df1-ef95-49d0-f14b-420c62f18cab"
      },
      "execution_count": 7,
      "outputs": [
        {
          "output_type": "stream",
          "name": "stdout",
          "text": [
            "Recommendations for 'Naruto':\n",
            "\n",
            "                                                   name  \\\n",
            "841                                              Naruto   \n",
            "1343                                        Naruto x UT   \n",
            "1796                                     Rekka no Honoo   \n",
            "486                            Boruto: Naruto the Movie   \n",
            "1472        Naruto: Shippuuden Movie 4 - The Lost Tower   \n",
            "1573  Naruto: Shippuuden Movie 3 - Hi no Ishi wo Tsu...   \n",
            "2997  Naruto Soyokazeden Movie: Naruto to Mashin to ...   \n",
            "2342                             Kurokami The Animation   \n",
            "2852                                       Project ARMS   \n",
            "6163                                          Wolverine   \n",
            "\n",
            "                                                  genre  rating  \n",
            "841   Action, Comedy, Martial Arts, Shounen, Super P...    7.81  \n",
            "1343  Action, Comedy, Martial Arts, Shounen, Super P...    7.58  \n",
            "1796  Action, Adventure, Martial Arts, Shounen, Supe...    7.44  \n",
            "486   Action, Comedy, Martial Arts, Shounen, Super P...    8.03  \n",
            "1472  Action, Comedy, Martial Arts, Shounen, Super P...    7.53  \n",
            "1573  Action, Comedy, Martial Arts, Shounen, Super P...    7.50  \n",
            "2997  Action, Comedy, Martial Arts, Shounen, Super P...    7.11  \n",
            "2342                  Action, Martial Arts, Super Power    7.29  \n",
            "2852                  Action, Martial Arts, Super Power    7.15  \n",
            "6163                  Action, Martial Arts, Super Power    6.24  \n"
          ]
        }
      ]
    }
  ]
}