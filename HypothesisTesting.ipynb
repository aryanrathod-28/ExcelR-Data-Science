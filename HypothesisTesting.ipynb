{
 "cells": [
  {
   "cell_type": "code",
   "execution_count": 2,
   "id": "d13947e0-2eae-4d93-a3ed-2220d92d5099",
   "metadata": {},
   "outputs": [
    {
     "name": "stdout",
     "output_type": "stream",
     "text": [
      "Sample Mean: 3050\n",
      "Population Mean (Theoretical): 4000\n",
      "Population Standard Deviation: 125\n",
      "Standard Error: 25.00\n",
      "Test Statistic (t): -38.00\n",
      "Critical Value (z): 1.64\n",
      "Conclusion: Fail to reject the null hypothesis. There is insufficient evidence to support the claim that weekly operating costs are higher than the model suggests.\n"
     ]
    }
   ],
   "source": [
    "# Hypothesis Testing: Weekly Operating Costs for Bombay Hospitality Ltd.\n",
    "\n",
    "import scipy.stats as stats\n",
    "import math\n",
    "\n",
    "# Step 1: State the Hypotheses\n",
    "# H0 (Null Hypothesis): The theoretical weekly operating cost model is accurate (mean weekly cost = $1000 + $5X).\n",
    "# H1 (Alternative Hypothesis): The weekly operating costs are higher than the theoretical model suggests.\n",
    "\n",
    "# Step 2: Data Preparation\n",
    "# Provided Data\n",
    "sample_mean = 3050  # Sample mean weekly cost (Rs.)\n",
    "sample_size = 25  # Sample size\n",
    "units_mean = 600  # Mean number of units produced in a week\n",
    "units_std_dev = 25  # Standard deviation of units produced\n",
    "\n",
    "# Calculate theoretical mean weekly cost\n",
    "# W = $1000 + $5X\n",
    "population_mean = 1000 + (5 * units_mean)  # Theoretical mean weekly cost\n",
    "\n",
    "# Calculate standard error (SE)\n",
    "# σ = 5 * σX (where σX is the standard deviation of units produced)\n",
    "population_std_dev = 5 * units_std_dev\n",
    "standard_error = population_std_dev / math.sqrt(sample_size)\n",
    "\n",
    "# Calculate the test statistic (t)\n",
    "t_statistic = (sample_mean - population_mean) / standard_error\n",
    "\n",
    "# Step 3: Determine the Critical Value\n",
    "alpha = 0.05  # Significance level\n",
    "z_critical = stats.norm.ppf(1 - alpha)  # Z critical value for a one-tailed test\n",
    "\n",
    "# Step 4: Make a Decision\n",
    "if t_statistic > z_critical:\n",
    "    conclusion = \"Reject the null hypothesis. There is strong evidence to support the claim that weekly operating costs are higher than the model suggests.\"\n",
    "else:\n",
    "    conclusion = \"Fail to reject the null hypothesis. There is insufficient evidence to support the claim that weekly operating costs are higher than the model suggests.\"\n",
    "\n",
    "# Step 5: Output Results\n",
    "print(f\"Sample Mean: {sample_mean}\")\n",
    "print(f\"Population Mean (Theoretical): {population_mean}\")\n",
    "print(f\"Population Standard Deviation: {population_std_dev}\")\n",
    "print(f\"Standard Error: {standard_error:.2f}\")\n",
    "print(f\"Test Statistic (t): {t_statistic:.2f}\")\n",
    "print(f\"Critical Value (z): {z_critical:.2f}\")\n",
    "print(f\"Conclusion: {conclusion}\")\n"
   ]
  },
  {
   "cell_type": "code",
   "execution_count": null,
   "id": "103474c2-5d7b-4662-9f4f-8756005dc26f",
   "metadata": {},
   "outputs": [],
   "source": []
  }
 ],
 "metadata": {
  "kernelspec": {
   "display_name": "Python [conda env:base] *",
   "language": "python",
   "name": "conda-base-py"
  },
  "language_info": {
   "codemirror_mode": {
    "name": "ipython",
    "version": 3
   },
   "file_extension": ".py",
   "mimetype": "text/x-python",
   "name": "python",
   "nbconvert_exporter": "python",
   "pygments_lexer": "ipython3",
   "version": "3.12.4"
  }
 },
 "nbformat": 4,
 "nbformat_minor": 5
}
