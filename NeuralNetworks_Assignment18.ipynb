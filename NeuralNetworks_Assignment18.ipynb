{
 "cells": [
  {
   "cell_type": "code",
   "execution_count": 1,
   "id": "8167a43c-5c23-417c-b528-a9f438e0ac5a",
   "metadata": {},
   "outputs": [
    {
     "name": "stdout",
     "output_type": "stream",
     "text": [
      "  letter  xbox  ybox  width  height  onpix  xbar  ybar  x2bar  y2bar  xybar  \\\n",
      "0      T     2     8      3       5      1     8    13      0      6      6   \n",
      "1      I     5    12      3       7      2    10     5      5      4     13   \n",
      "2      D     4    11      6       8      6    10     6      2      6     10   \n",
      "3      N     7    11      6       6      3     5     9      4      6      4   \n",
      "4      G     2     1      3       1      1     8     6      6      6      6   \n",
      "\n",
      "   x2ybar  xy2bar  xedge  xedgey  yedge  yedgex  \n",
      "0      10       8      0       8      0       8  \n",
      "1       3       9      2       8      4      10  \n",
      "2       3       7      3       7      3       9  \n",
      "3       4      10      6      10      2       8  \n",
      "4       5       9      1       7      5      10  \n",
      "Training model with hidden_units=32, learning_rate=0.001, epochs=10, batch_size=32\n"
     ]
    },
    {
     "name": "stderr",
     "output_type": "stream",
     "text": [
      "D:\\Anaconda\\Lib\\site-packages\\keras\\src\\layers\\core\\dense.py:87: UserWarning: Do not pass an `input_shape`/`input_dim` argument to a layer. When using Sequential models, prefer using an `Input(shape)` object as the first layer in the model instead.\n",
      "  super().__init__(activity_regularizer=activity_regularizer, **kwargs)\n"
     ]
    },
    {
     "name": "stdout",
     "output_type": "stream",
     "text": [
      "Restoring model weights from the end of the best epoch: 10.\n",
      "\u001b[1m125/125\u001b[0m \u001b[32m━━━━━━━━━━━━━━━━━━━━\u001b[0m\u001b[37m\u001b[0m \u001b[1m0s\u001b[0m 3ms/step\n",
      "Accuracy: 0.8670\n",
      "Training model with hidden_units=64, learning_rate=0.001, epochs=10, batch_size=32\n"
     ]
    },
    {
     "name": "stderr",
     "output_type": "stream",
     "text": [
      "D:\\Anaconda\\Lib\\site-packages\\keras\\src\\layers\\core\\dense.py:87: UserWarning: Do not pass an `input_shape`/`input_dim` argument to a layer. When using Sequential models, prefer using an `Input(shape)` object as the first layer in the model instead.\n",
      "  super().__init__(activity_regularizer=activity_regularizer, **kwargs)\n"
     ]
    },
    {
     "name": "stdout",
     "output_type": "stream",
     "text": [
      "Restoring model weights from the end of the best epoch: 10.\n",
      "\u001b[1m125/125\u001b[0m \u001b[32m━━━━━━━━━━━━━━━━━━━━\u001b[0m\u001b[37m\u001b[0m \u001b[1m0s\u001b[0m 2ms/step\n",
      "Accuracy: 0.8950\n",
      "\u001b[1m125/125\u001b[0m \u001b[32m━━━━━━━━━━━━━━━━━━━━\u001b[0m\u001b[37m\u001b[0m \u001b[1m0s\u001b[0m 2ms/step\n",
      "Best Hyperparameters: {'hidden_units': 64, 'learning_rate': 0.001, 'epochs': 10, 'batch_size': 32}\n",
      "Final Model Evaluation:\n",
      "Accuracy: 0.8950\n",
      "Precision: 0.8982\n",
      "Recall: 0.8950\n",
      "F1 Score: 0.8955\n"
     ]
    }
   ],
   "source": [
    "import pandas as pd\n",
    "import numpy as np\n",
    "from sklearn.model_selection import train_test_split\n",
    "from sklearn.preprocessing import StandardScaler\n",
    "from sklearn.metrics import accuracy_score, precision_score, recall_score, f1_score\n",
    "from tensorflow.keras.models import Sequential\n",
    "from tensorflow.keras.layers import Dense\n",
    "from tensorflow.keras.optimizers import Adam\n",
    "from tensorflow.keras.callbacks import EarlyStopping\n",
    "\n",
    "# Step 1: Data Exploration and Preprocessing\n",
    "df = pd.read_csv(r'C:\\Users\\User\\Downloads\\Neural networks\\Neural networks\\Alphabets_data.csv')\n",
    "print(df.head())\n",
    "\n",
    "# Separate features (X) and target (y)\n",
    "X = df.drop('letter', axis=1)\n",
    "y = df['letter']\n",
    "\n",
    "# Convert categorical labels to numeric\n",
    "y = pd.factorize(y)[0]\n",
    "\n",
    "# Normalize the feature data\n",
    "scaler = StandardScaler()\n",
    "X_scaled = scaler.fit_transform(X)\n",
    "\n",
    "# Split data into training and testing sets\n",
    "X_train, X_test, y_train, y_test = train_test_split(X_scaled, y, test_size=0.2, random_state=42)\n",
    "\n",
    "# Step 2: Define a function to create and train the ANN model\n",
    "def create_ann(hidden_units=64, learning_rate=0.001, epochs=10, batch_size=32):\n",
    "    model = Sequential()\n",
    "    model.add(Dense(hidden_units, input_dim=X_train.shape[1], activation='relu'))  # Input layer\n",
    "    model.add(Dense(32, activation='relu'))  # Hidden layer\n",
    "    model.add(Dense(len(np.unique(y)), activation='softmax'))  # Output layer (multi-class)\n",
    "    \n",
    "    model.compile(optimizer=Adam(learning_rate=learning_rate),\n",
    "                  loss='sparse_categorical_crossentropy', metrics=['accuracy'])\n",
    "    \n",
    "    # Early stopping callback to prevent overfitting and speed up training\n",
    "    early_stopping = EarlyStopping(monitor='loss', patience=3, verbose=1, restore_best_weights=True)\n",
    "    \n",
    "    model.fit(X_train, y_train, epochs=epochs, batch_size=batch_size, verbose=0, callbacks=[early_stopping])\n",
    "    return model\n",
    "\n",
    "# Step 3: Reduce Hyperparameter Search Space (smaller search space and fewer epochs)\n",
    "hidden_units_list = [32, 64]\n",
    "learning_rate_list = [0.001]\n",
    "epochs_list = [10]  # Reduced number of epochs to speed up the process\n",
    "batch_size_list = [32]\n",
    "\n",
    "best_model = None\n",
    "best_score = 0\n",
    "best_params = {}\n",
    "\n",
    "# Loop through hyperparameters\n",
    "for hidden_units in hidden_units_list:\n",
    "    for learning_rate in learning_rate_list:\n",
    "        for epochs in epochs_list:\n",
    "            for batch_size in batch_size_list:\n",
    "                print(f\"Training model with hidden_units={hidden_units}, learning_rate={learning_rate}, epochs={epochs}, batch_size={batch_size}\")\n",
    "                \n",
    "                # Create and train the model\n",
    "                model = create_ann(hidden_units=hidden_units, learning_rate=learning_rate, epochs=epochs, batch_size=batch_size)\n",
    "                \n",
    "                # Evaluate the model\n",
    "                y_pred = np.argmax(model.predict(X_test), axis=-1)\n",
    "                accuracy = accuracy_score(y_test, y_pred)\n",
    "                \n",
    "                print(f\"Accuracy: {accuracy:.4f}\")\n",
    "                \n",
    "                # Save the best model based on accuracy\n",
    "                if accuracy > best_score:\n",
    "                    best_score = accuracy\n",
    "                    best_model = model\n",
    "                    best_params = {\n",
    "                        'hidden_units': hidden_units,\n",
    "                        'learning_rate': learning_rate,\n",
    "                        'epochs': epochs,\n",
    "                        'batch_size': batch_size\n",
    "                    }\n",
    "\n",
    "# Step 4: Final Evaluation of the Best Model\n",
    "y_pred = np.argmax(best_model.predict(X_test), axis=-1)\n",
    "accuracy = accuracy_score(y_test, y_pred)\n",
    "precision = precision_score(y_test, y_pred, average='weighted')\n",
    "recall = recall_score(y_test, y_pred, average='weighted')\n",
    "f1 = f1_score(y_test, y_pred, average='weighted')\n",
    "\n",
    "print(f\"Best Hyperparameters: {best_params}\")\n",
    "print(f\"Final Model Evaluation:\")\n",
    "print(f\"Accuracy: {accuracy:.4f}\")\n",
    "print(f\"Precision: {precision:.4f}\")\n",
    "print(f\"Recall: {recall:.4f}\")\n",
    "print(f\"F1 Score: {f1:.4f}\")\n"
   ]
  },
  {
   "cell_type": "code",
   "execution_count": null,
   "id": "08324814-a4e7-4152-9779-4df573d6d4a2",
   "metadata": {},
   "outputs": [],
   "source": []
  }
 ],
 "metadata": {
  "kernelspec": {
   "display_name": "Python [conda env:base] *",
   "language": "python",
   "name": "conda-base-py"
  },
  "language_info": {
   "codemirror_mode": {
    "name": "ipython",
    "version": 3
   },
   "file_extension": ".py",
   "mimetype": "text/x-python",
   "name": "python",
   "nbconvert_exporter": "python",
   "pygments_lexer": "ipython3",
   "version": "3.12.4"
  }
 },
 "nbformat": 4,
 "nbformat_minor": 5
}
