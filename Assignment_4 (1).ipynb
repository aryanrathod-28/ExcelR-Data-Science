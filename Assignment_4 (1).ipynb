{
  "nbformat": 4,
  "nbformat_minor": 0,
  "metadata": {
    "colab": {
      "provenance": []
    },
    "kernelspec": {
      "name": "python3",
      "display_name": "Python 3"
    },
    "language_info": {
      "name": "python"
    }
  },
  "cells": [
    {
      "cell_type": "code",
      "execution_count": 1,
      "metadata": {
        "colab": {
          "base_uri": "https://localhost:8080/"
        },
        "id": "wL5Zn2lo9lNy",
        "outputId": "f7da1715-94c2-4339-e0be-bb86f9aad0e1"
      },
      "outputs": [
        {
          "output_type": "stream",
          "name": "stdout",
          "text": [
            "Hypotheses:\n",
            "H0 (Null Hypothesis): There is no significant association between the type of device purchased and customer satisfaction level.\n",
            "H1 (Alternative Hypothesis): There is a significant association between the type of device purchased and customer satisfaction level.\n",
            "\n"
          ]
        }
      ],
      "source": [
        "import numpy as np\n",
        "from scipy.stats import chi2_contingency\n",
        "\n",
        "# Data from the contingency table\n",
        "# Rows: Satisfaction levels, Columns: Smart Thermostat, Smart Light\n",
        "data = np.array([\n",
        "    [50, 70],  # Very Satisfied\n",
        "    [80, 100],  # Satisfied\n",
        "    [60, 90],  # Neutral\n",
        "    [30, 50],  # Unsatisfied\n",
        "    [20, 50],  # Very Unsatisfied\n",
        "])\n",
        "\n",
        "# Assignment Task 1: State the Hypotheses\n",
        "print(\"Hypotheses:\")\n",
        "print(\"H0 (Null Hypothesis): There is no significant association between the type of device purchased and customer satisfaction level.\")\n",
        "print(\"H1 (Alternative Hypothesis): There is a significant association between the type of device purchased and customer satisfaction level.\\n\")"
      ]
    },
    {
      "cell_type": "code",
      "source": [
        "# Assignment Task 2: Compute the Chi-Square Statistic\n",
        "chi2_stat, p_value, dof, expected = chi2_contingency(data)\n",
        "\n",
        "print(\"Chi-Square Test Results:\")\n",
        "print(f\"Chi-Square Statistic: {chi2_stat:.4f}\")\n",
        "print(f\"Degrees of Freedom: {dof}\")\n",
        "print(\"Expected Frequencies:\")\n",
        "print(expected, \"\\n\")"
      ],
      "metadata": {
        "colab": {
          "base_uri": "https://localhost:8080/"
        },
        "id": "fic7caYxAuA7",
        "outputId": "a8b07857-4ed5-490b-f1e2-4130d0b63955"
      },
      "execution_count": 2,
      "outputs": [
        {
          "output_type": "stream",
          "name": "stdout",
          "text": [
            "Chi-Square Test Results:\n",
            "Chi-Square Statistic: 5.6382\n",
            "Degrees of Freedom: 4\n",
            "Expected Frequencies:\n",
            "[[ 48.  72.]\n",
            " [ 72. 108.]\n",
            " [ 60.  90.]\n",
            " [ 32.  48.]\n",
            " [ 28.  42.]] \n",
            "\n"
          ]
        }
      ]
    },
    {
      "cell_type": "code",
      "source": [
        "# Assignment Task 3: Determine the Critical Value\n",
        "alpha = 0.05  # Significance level\n",
        "from scipy.stats import chi2\n",
        "\n",
        "critical_value = chi2.ppf(1 - alpha, dof)\n",
        "print(f\"Critical Value (at alpha = {alpha}): {critical_value:.4f}\\n\")"
      ],
      "metadata": {
        "colab": {
          "base_uri": "https://localhost:8080/"
        },
        "id": "lRwNv7q5AyNa",
        "outputId": "c80cd426-6e90-4104-c608-3f1dde550a36"
      },
      "execution_count": 3,
      "outputs": [
        {
          "output_type": "stream",
          "name": "stdout",
          "text": [
            "Critical Value (at alpha = 0.05): 9.4877\n",
            "\n"
          ]
        }
      ]
    },
    {
      "cell_type": "code",
      "source": [
        "# Assignment Task 4: Make a Decision\n",
        "if chi2_stat > critical_value:\n",
        "    print(\"Decision: Reject the null hypothesis.\")\n",
        "    print(\"Conclusion: There is a significant association between the type of device purchased and customer satisfaction level.\")\n",
        "else:\n",
        "    print(\"Decision: Fail to reject the null hypothesis.\")\n",
        "    print(\"Conclusion: There is no significant association between the type of device purchased and customer satisfaction level.\")\n",
        "\n",
        "if p_value < alpha:\n",
        "    print(f\"Additionally, p-value ({p_value:.4f}) < alpha ({alpha}), which confirms rejecting the null hypothesis.\")\n",
        "else:\n",
        "    print(f\"Additionally, p-value ({p_value:.4f}) >= alpha ({alpha}), which supports failing to reject the null hypothesis.\")"
      ],
      "metadata": {
        "colab": {
          "base_uri": "https://localhost:8080/"
        },
        "id": "Bii8-10VA2g7",
        "outputId": "d39eab8c-73b2-4345-9f2d-944eda3583b2"
      },
      "execution_count": 4,
      "outputs": [
        {
          "output_type": "stream",
          "name": "stdout",
          "text": [
            "Decision: Fail to reject the null hypothesis.\n",
            "Conclusion: There is no significant association between the type of device purchased and customer satisfaction level.\n",
            "Additionally, p-value (0.2278) >= alpha (0.05), which supports failing to reject the null hypothesis.\n"
          ]
        }
      ]
    },
    {
      "cell_type": "code",
      "source": [
        "# HYPOTHESIS TESTING"
      ],
      "metadata": {
        "id": "adeaA0psBCW6"
      },
      "execution_count": 5,
      "outputs": []
    },
    {
      "cell_type": "code",
      "source": [
        "import math\n",
        "from scipy.stats import norm\n",
        "\n",
        "# Data Provided\n",
        "sample_mean = 3050  # Mean weekly cost from the sample\n",
        "sample_size = 25  # Number of restaurants in the sample\n",
        "units_mean = 600  # Mean number of units produced in a week\n",
        "units_std_dev = 25  # Standard deviation of units produced\n",
        "alpha = 0.05  # Significance level\n",
        "\n",
        "# Theoretical weekly cost model: W = $1,000 + $5X\n",
        "theoretical_mean = 1000 + (5 * units_mean)\n",
        "theoretical_std_dev = 5 * units_std_dev / math.sqrt(sample_size)  # Standard error of the mean\n",
        "\n",
        "# Step 1: State the Hypotheses\n",
        "print(\"Hypotheses:\")\n",
        "print(\"H0 (Null Hypothesis): The weekly operating cost is equal to or less than the theoretical cost model.\")\n",
        "print(\"H1 (Alternative Hypothesis): The weekly operating cost is higher than the theoretical cost model.\\n\")"
      ],
      "metadata": {
        "colab": {
          "base_uri": "https://localhost:8080/"
        },
        "id": "6t3O97mKBHKZ",
        "outputId": "2cf6faf6-e69d-43b9-e18b-f290ee2f0843"
      },
      "execution_count": 6,
      "outputs": [
        {
          "output_type": "stream",
          "name": "stdout",
          "text": [
            "Hypotheses:\n",
            "H0 (Null Hypothesis): The weekly operating cost is equal to or less than the theoretical cost model.\n",
            "H1 (Alternative Hypothesis): The weekly operating cost is higher than the theoretical cost model.\n",
            "\n"
          ]
        }
      ]
    },
    {
      "cell_type": "code",
      "source": [
        "# Step 2: Calculate the Test Statistic\n",
        "test_statistic = (sample_mean - theoretical_mean) / theoretical_std_dev\n",
        "print(f\"Test Statistic (t): {test_statistic:.4f}\")"
      ],
      "metadata": {
        "colab": {
          "base_uri": "https://localhost:8080/"
        },
        "id": "kcq3AruyBOw3",
        "outputId": "94cbe2e5-69ee-42c8-a7f4-10bf7da0702e"
      },
      "execution_count": 7,
      "outputs": [
        {
          "output_type": "stream",
          "name": "stdout",
          "text": [
            "Test Statistic (t): -38.0000\n"
          ]
        }
      ]
    },
    {
      "cell_type": "code",
      "source": [
        "# Step 3: Determine the Critical Value\n",
        "critical_value = norm.ppf(1 - alpha)  # Z-critical value for one-tailed test\n",
        "print(f\"Critical Value (Z): {critical_value:.4f}\\n\")"
      ],
      "metadata": {
        "colab": {
          "base_uri": "https://localhost:8080/"
        },
        "id": "03MQBYsyBS9L",
        "outputId": "68e0d746-9e40-4f8f-dc67-970c51fa06f8"
      },
      "execution_count": 8,
      "outputs": [
        {
          "output_type": "stream",
          "name": "stdout",
          "text": [
            "Critical Value (Z): 1.6449\n",
            "\n"
          ]
        }
      ]
    },
    {
      "cell_type": "code",
      "source": [
        "# Step 4: Make a Decision\n",
        "if test_statistic > critical_value:\n",
        "    print(\"Decision: Reject the null hypothesis.\")\n",
        "    print(\"Conclusion: There is strong evidence to support the restaurant owners' claim that the weekly operating costs are higher than the model suggests.\")\n",
        "else:\n",
        "    print(\"Decision: Fail to reject the null hypothesis.\")\n",
        "    print(\"Conclusion: There is not enough evidence to support the restaurant owners' claim that the weekly operating costs are higher than the model suggests.\")"
      ],
      "metadata": {
        "colab": {
          "base_uri": "https://localhost:8080/"
        },
        "id": "LpbtYlKeBVlm",
        "outputId": "7ee43432-653f-4d90-d85b-0e32381fcce6"
      },
      "execution_count": 9,
      "outputs": [
        {
          "output_type": "stream",
          "name": "stdout",
          "text": [
            "Decision: Fail to reject the null hypothesis.\n",
            "Conclusion: There is not enough evidence to support the restaurant owners' claim that the weekly operating costs are higher than the model suggests.\n"
          ]
        }
      ]
    }
  ]
}