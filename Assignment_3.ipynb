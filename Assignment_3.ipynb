{
  "nbformat": 4,
  "nbformat_minor": 0,
  "metadata": {
    "colab": {
      "provenance": []
    },
    "kernelspec": {
      "name": "python3",
      "display_name": "Python 3"
    },
    "language_info": {
      "name": "python"
    }
  },
  "cells": [
    {
      "cell_type": "code",
      "execution_count": 1,
      "metadata": {
        "colab": {
          "base_uri": "https://localhost:8080/"
        },
        "id": "XhtyX1fB6CES",
        "outputId": "0c98ebbf-d4e8-42bd-a780-167bce4387d5"
      },
      "outputs": [
        {
          "output_type": "stream",
          "name": "stdout",
          "text": [
            "Enter a number to check if it is prime: 3\n",
            "3 is a prime number.\n"
          ]
        }
      ],
      "source": [
        "import random\n",
        "import string\n",
        "\n",
        "# Exercise 1: Prime Numbers\n",
        "def is_prime(num):\n",
        "    \"\"\"Check whether a number is prime.\"\"\"\n",
        "    if num <= 1:\n",
        "        return False\n",
        "    for i in range(2, int(num ** 0.5) + 1):  # Check divisors up to sqrt(num)\n",
        "        if num % i == 0:\n",
        "            return False\n",
        "    return True\n",
        "\n",
        "# Example usage for Exercise 1\n",
        "num = int(input(\"Enter a number to check if it is prime: \"))\n",
        "if is_prime(num):\n",
        "    print(f\"{num} is a prime number.\")\n",
        "else:\n",
        "    print(f\"{num} is not a prime number.\")\n"
      ]
    },
    {
      "cell_type": "code",
      "source": [
        "# Exercise 2: Product of Random Numbers\n",
        "def random_product_game():\n",
        "    \"\"\"Generate two random numbers and check if the user's product is correct.\"\"\"\n",
        "    num1 = random.randint(1, 10)\n",
        "    num2 = random.randint(1, 10)\n",
        "    print(f\"Random numbers are {num1} and {num2}.\")\n",
        "    user_answer = int(input(f\"What is the product of {num1} and {num2}? \"))\n",
        "    if user_answer == num1 * num2:\n",
        "        print(\"Correct! Well done.\")\n",
        "    else:\n",
        "        print(f\"Wrong! The correct answer is {num1 * num2}.\")\n",
        "\n",
        "# Example usage for Exercise 2\n",
        "random_product_game()"
      ],
      "metadata": {
        "colab": {
          "base_uri": "https://localhost:8080/"
        },
        "id": "KTrLgjL96ojk",
        "outputId": "498c95df-af68-441c-dda2-ae89c17d4905"
      },
      "execution_count": 2,
      "outputs": [
        {
          "output_type": "stream",
          "name": "stdout",
          "text": [
            "Random numbers are 3 and 5.\n",
            "What is the product of 3 and 5? 15\n",
            "Correct! Well done.\n"
          ]
        }
      ]
    },
    {
      "cell_type": "code",
      "source": [
        "# Exercise 3: Squares of Even Numbers\n",
        "def print_squares_of_even_numbers():\n",
        "    \"\"\"Print squares of all even numbers from 100 to 200.\"\"\"\n",
        "    print(\"Squares of even numbers from 100 to 200:\")\n",
        "    for num in range(100, 201):\n",
        "        if num % 2 == 0:  # Check if the number is even\n",
        "            print(f\"{num}^2 = {num ** 2}\")\n",
        "\n",
        "# Example usage for Exercise 3\n",
        "print_squares_of_even_numbers()"
      ],
      "metadata": {
        "colab": {
          "base_uri": "https://localhost:8080/"
        },
        "id": "oMNynPYk8Qpy",
        "outputId": "e9a74d87-0b2f-475b-baca-c6ce44de9c6e"
      },
      "execution_count": 3,
      "outputs": [
        {
          "output_type": "stream",
          "name": "stdout",
          "text": [
            "Squares of even numbers from 100 to 200:\n",
            "100^2 = 10000\n",
            "102^2 = 10404\n",
            "104^2 = 10816\n",
            "106^2 = 11236\n",
            "108^2 = 11664\n",
            "110^2 = 12100\n",
            "112^2 = 12544\n",
            "114^2 = 12996\n",
            "116^2 = 13456\n",
            "118^2 = 13924\n",
            "120^2 = 14400\n",
            "122^2 = 14884\n",
            "124^2 = 15376\n",
            "126^2 = 15876\n",
            "128^2 = 16384\n",
            "130^2 = 16900\n",
            "132^2 = 17424\n",
            "134^2 = 17956\n",
            "136^2 = 18496\n",
            "138^2 = 19044\n",
            "140^2 = 19600\n",
            "142^2 = 20164\n",
            "144^2 = 20736\n",
            "146^2 = 21316\n",
            "148^2 = 21904\n",
            "150^2 = 22500\n",
            "152^2 = 23104\n",
            "154^2 = 23716\n",
            "156^2 = 24336\n",
            "158^2 = 24964\n",
            "160^2 = 25600\n",
            "162^2 = 26244\n",
            "164^2 = 26896\n",
            "166^2 = 27556\n",
            "168^2 = 28224\n",
            "170^2 = 28900\n",
            "172^2 = 29584\n",
            "174^2 = 30276\n",
            "176^2 = 30976\n",
            "178^2 = 31684\n",
            "180^2 = 32400\n",
            "182^2 = 33124\n",
            "184^2 = 33856\n",
            "186^2 = 34596\n",
            "188^2 = 35344\n",
            "190^2 = 36100\n",
            "192^2 = 36864\n",
            "194^2 = 37636\n",
            "196^2 = 38416\n",
            "198^2 = 39204\n",
            "200^2 = 40000\n"
          ]
        }
      ]
    },
    {
      "cell_type": "code",
      "source": [
        "# Exercise 4: Word Counter\n",
        "def word_counter(input_text):\n",
        "    \"\"\"Count the number of occurrences of each word in a text.\"\"\"\n",
        "    word_count = {}\n",
        "    words = input_text.split()  # Split text into words\n",
        "    for word in words:\n",
        "        word = word.lower().strip(string.punctuation)  # Normalize case and remove punctuation\n",
        "        word_count[word] = word_count.get(word, 0) + 1\n",
        "    return word_count\n",
        "  # Example usage for Exercise 4\n",
        "input_text = \"This is a sample text. This text will be used to demonstrate the word counter.\"\n",
        "word_counts = word_counter(input_text)\n",
        "print(\"\\nWord counts:\")\n",
        "for word, count in word_counts.items():\n",
        "    print(f\"'{word}': {count}\")"
      ],
      "metadata": {
        "colab": {
          "base_uri": "https://localhost:8080/"
        },
        "id": "2eu9gq5v8VNb",
        "outputId": "036e7b70-5b42-4be3-b607-48adadaeb390"
      },
      "execution_count": 6,
      "outputs": [
        {
          "output_type": "stream",
          "name": "stdout",
          "text": [
            "\n",
            "Word counts:\n",
            "'this': 2\n",
            "'is': 1\n",
            "'a': 1\n",
            "'sample': 1\n",
            "'text': 2\n",
            "'will': 1\n",
            "'be': 1\n",
            "'used': 1\n",
            "'to': 1\n",
            "'demonstrate': 1\n",
            "'the': 1\n",
            "'word': 1\n",
            "'counter': 1\n"
          ]
        }
      ]
    },
    {
      "cell_type": "code",
      "source": [
        "# Exercise 5: Check for Palindrome\n",
        "def is_palindrome(input_string):\n",
        "    \"\"\"Check if a string is a palindrome.\"\"\"\n",
        "    normalized_string = ''.join(char.lower() for char in input_string if char.isalnum())\n",
        "    return normalized_string == normalized_string[::-1]\n",
        "\n",
        "# Example usage for Exercise 5\n",
        "test_string = input(\"\\nEnter a string to check if it's a palindrome: \")\n",
        "if is_palindrome(test_string):\n",
        "    print(f\"'{test_string}' is a palindrome.\")\n",
        "else:\n",
        "    print(f\"'{test_string}' is not a palindrome.\")"
      ],
      "metadata": {
        "colab": {
          "base_uri": "https://localhost:8080/"
        },
        "id": "XfW8TQVl8duG",
        "outputId": "2d88dcf2-30d9-44e6-9950-923116d006ce"
      },
      "execution_count": 7,
      "outputs": [
        {
          "output_type": "stream",
          "name": "stdout",
          "text": [
            "\n",
            "Enter a string to check if it's a palindrome: A man, a plan, a canal, Panama\n",
            "'A man, a plan, a canal, Panama' is a palindrome.\n"
          ]
        }
      ]
    }
  ]
}